{
  "nbformat": 4,
  "nbformat_minor": 0,
  "metadata": {
    "colab": {
      "provenance": [],
      "mount_file_id": "1lKDC0gL57WdD63MIKUDfzdwDavDL6L9f",
      "authorship_tag": "ABX9TyPYR59XaftDe7EJn9l/abwy",
      "include_colab_link": true
    },
    "kernelspec": {
      "name": "python3",
      "display_name": "Python 3"
    },
    "language_info": {
      "name": "python"
    }
  },
  "cells": [
    {
      "cell_type": "markdown",
      "metadata": {
        "id": "view-in-github",
        "colab_type": "text"
      },
      "source": [
        "<a href=\"https://colab.research.google.com/github/cvs2010/ml_olympiad_for_students_topvistos_eua/blob/main/ML_Olympiad_for_Students_TopVistos_EUA_XGBClassifier.ipynb\" target=\"_parent\"><img src=\"https://colab.research.google.com/assets/colab-badge.svg\" alt=\"Open In Colab\"/></a>"
      ]
    },
    {
      "cell_type": "code",
      "execution_count": 2,
      "metadata": {
        "id": "A0Xy1XPCkQtE"
      },
      "outputs": [],
      "source": [
        "# This Python 3 environment comes with many helpful analytics libraries installed\n",
        "# It is defined by the kaggle/python Docker image: https://github.com/kaggle/docker-python\n",
        "# For example, here's several helpful packages to load\n",
        "\n",
        "import numpy as np # linear algebra\n",
        "import pandas as pd # data processing, CSV file I/O (e.g. pd.read_csv)\n",
        "\n",
        "# Input data files are available in the read-only \"../input/\" directory\n",
        "# For example, running this (by clicking run or pressing Shift+Enter) will list all files under the input directory\n",
        "\n",
        "import os\n",
        "for dirname, _, filenames in os.walk('/kaggle/input'):\n",
        "    for filename in filenames:\n",
        "        print(os.path.join(dirname, filename))\n",
        "\n",
        "# You can write up to 20GB to the current directory (/kaggle/working/) that gets preserved as output when you create a version using \"Save & Run All\" \n",
        "# You can also write temporary files to /kaggle/temp/, but they won't be saved outside of the current session"
      ]
    },
    {
      "cell_type": "code",
      "source": [
        "# Importar o DataSet do google drive\n",
        "df_sample_submission = pd.read_csv('/content/drive/MyDrive/Colab Notebooks/Kaggle/Competitions/ML Olympiad for Students - TopVistos EUA/sample_submission.csv')\n",
        "train = pd.read_csv('/content/drive/MyDrive/Colab Notebooks/Kaggle/Competitions/ML Olympiad for Students - TopVistos EUA/train.csv')\n",
        "test = pd.read_csv('/content/drive/MyDrive/Colab Notebooks/Kaggle/Competitions/ML Olympiad for Students - TopVistos EUA/test.csv')\n",
        "train['status_do_caso'] = train['status_do_caso'].map({'Negado': 0, 'Aprovado': 1})"
      ],
      "metadata": {
        "id": "3lwUHd3Ynedi"
      },
      "execution_count": 6,
      "outputs": []
    },
    {
      "cell_type": "code",
      "source": [
        "train['status_do_caso'].mean()"
      ],
      "metadata": {
        "colab": {
          "base_uri": "https://localhost:8080/"
        },
        "id": "Kkiwyr7GnnBZ",
        "outputId": "16ef108b-69f2-451c-f0b7-b4fcda03fead"
      },
      "execution_count": 7,
      "outputs": [
        {
          "output_type": "execute_result",
          "data": {
            "text/plain": [
              "0.6692644090603275"
            ]
          },
          "metadata": {},
          "execution_count": 7
        }
      ]
    },
    {
      "cell_type": "code",
      "source": [
        "from xgboost import XGBClassifier\n",
        "from sklearn.metrics import roc_auc_score, f1_score\n",
        "!pip install category_encoders\n",
        "from category_encoders import OrdinalEncoder\n",
        "!pip install optuna\n",
        "import optuna as opt\n",
        "\n",
        "from sklearn.model_selection import StratifiedKFold\n",
        "\n",
        "Xtrain = train.drop(['status_do_caso', 'id_do_caso'], axis=1)\n",
        "ytrain = train['status_do_caso']\n",
        "\n",
        "# Define the columns to encode\n",
        "columns_to_encode = ['continente', 'educacao_do_empregado', 'tem_experiencia_de_trabalho', \n",
        "                     'requer_treinamento_de_trabalho',\n",
        "                    'regiao_de_emprego', 'unidade_de_salario', 'posicao_em_tempo_integral']\n",
        "\n",
        "\n",
        "def objective(trial):\n",
        "    learning_rate = trial.suggest_float('learning_rate', 1e-3, 1e-1, log=True)\n",
        "    max_depth = trial.suggest_int('max_depth', 1, 10)\n",
        "    subsample = trial.suggest_float('subsample', 0.5, 1, step=0.1)\n",
        "    colsample_bytree = trial.suggest_float('colsample_bytree', 0.5, 1, step=0.1)\n",
        "    min_child_weight = trial.suggest_int('min_child_weight', 1, 10)\n",
        "    \n",
        "    avg_roc = 0\n",
        "    avg_f1 = 0\n",
        "    kf = StratifiedKFold(n_splits=5, shuffle=True, random_state=42)\n",
        "    for tr, ts in kf.split(Xtrain, ytrain):\n",
        "        Xtr, Xvl = Xtrain.iloc[tr], Xtrain.iloc[ts]\n",
        "        ytr, yvl = ytrain.iloc[tr], ytrain.iloc[ts]\n",
        "\n",
        "        encoder = OrdinalEncoder(cols=columns_to_encode)\n",
        "\n",
        "        Xtr = encoder.fit_transform(Xtr)\n",
        "        Xvl = encoder.transform(Xvl)\n",
        "        \n",
        "        scale_pos_weight = ytr.value_counts()[0] / ytr.value_counts()[1]\n",
        "        mdl = XGBClassifier(n_estimators=1000, learning_rate=learning_rate, \n",
        "                            max_depth=max_depth, subsample=subsample, colsample_bytree=colsample_bytree, \n",
        "                            min_child_weight=min_child_weight, scale_pos_weight=scale_pos_weight, \n",
        "                            random_state=0, n_jobs=-1)\n",
        "        mdl.fit(Xtr, ytr)\n",
        "        p = mdl.predict_proba(Xvl)[:, 1]\n",
        "        avg_roc += roc_auc_score(yvl, p)\n",
        "        \n",
        "        f1_66_th = np.percentile(p, 100 - 67)\n",
        "        avg_f1 += f1_score(yvl, p > f1_66_th)\n",
        "    \n",
        "\n",
        "    print('avg roc:', avg_roc / 5)\n",
        "    print('avg f1:', avg_f1 / 5)\n",
        "    return avg_roc / 5\n",
        "\n",
        "study = opt.create_study(direction='maximize')\n",
        "study.optimize(objective, n_trials=3)"
      ],
      "metadata": {
        "colab": {
          "base_uri": "https://localhost:8080/"
        },
        "id": "iWm2IXfRnoyR",
        "outputId": "b22a6bea-2966-4fd5-a8af-ebf8cdfdc2a4"
      },
      "execution_count": 13,
      "outputs": [
        {
          "metadata": {
            "tags": null
          },
          "name": "stdout",
          "output_type": "stream",
          "text": [
            "Looking in indexes: https://pypi.org/simple, https://us-python.pkg.dev/colab-wheels/public/simple/\n",
            "Requirement already satisfied: category_encoders in /usr/local/lib/python3.10/dist-packages (2.6.1)\n",
            "Requirement already satisfied: numpy>=1.14.0 in /usr/local/lib/python3.10/dist-packages (from category_encoders) (1.22.4)\n",
            "Requirement already satisfied: scikit-learn>=0.20.0 in /usr/local/lib/python3.10/dist-packages (from category_encoders) (1.2.2)\n",
            "Requirement already satisfied: scipy>=1.0.0 in /usr/local/lib/python3.10/dist-packages (from category_encoders) (1.10.1)\n",
            "Requirement already satisfied: statsmodels>=0.9.0 in /usr/local/lib/python3.10/dist-packages (from category_encoders) (0.13.5)\n",
            "Requirement already satisfied: pandas>=1.0.5 in /usr/local/lib/python3.10/dist-packages (from category_encoders) (1.5.3)\n",
            "Requirement already satisfied: patsy>=0.5.1 in /usr/local/lib/python3.10/dist-packages (from category_encoders) (0.5.3)\n",
            "Requirement already satisfied: python-dateutil>=2.8.1 in /usr/local/lib/python3.10/dist-packages (from pandas>=1.0.5->category_encoders) (2.8.2)\n",
            "Requirement already satisfied: pytz>=2020.1 in /usr/local/lib/python3.10/dist-packages (from pandas>=1.0.5->category_encoders) (2022.7.1)\n",
            "Requirement already satisfied: six in /usr/local/lib/python3.10/dist-packages (from patsy>=0.5.1->category_encoders) (1.16.0)\n",
            "Requirement already satisfied: joblib>=1.1.1 in /usr/local/lib/python3.10/dist-packages (from scikit-learn>=0.20.0->category_encoders) (1.2.0)\n",
            "Requirement already satisfied: threadpoolctl>=2.0.0 in /usr/local/lib/python3.10/dist-packages (from scikit-learn>=0.20.0->category_encoders) (3.1.0)\n",
            "Requirement already satisfied: packaging>=21.3 in /usr/local/lib/python3.10/dist-packages (from statsmodels>=0.9.0->category_encoders) (23.1)\n",
            "Looking in indexes: https://pypi.org/simple, https://us-python.pkg.dev/colab-wheels/public/simple/\n",
            "Requirement already satisfied: optuna in /usr/local/lib/python3.10/dist-packages (3.2.0)\n",
            "Requirement already satisfied: alembic>=1.5.0 in /usr/local/lib/python3.10/dist-packages (from optuna) (1.11.1)\n",
            "Requirement already satisfied: cmaes>=0.9.1 in /usr/local/lib/python3.10/dist-packages (from optuna) (0.9.1)\n",
            "Requirement already satisfied: colorlog in /usr/local/lib/python3.10/dist-packages (from optuna) (6.7.0)\n",
            "Requirement already satisfied: numpy in /usr/local/lib/python3.10/dist-packages (from optuna) (1.22.4)\n",
            "Requirement already satisfied: packaging>=20.0 in /usr/local/lib/python3.10/dist-packages (from optuna) (23.1)\n",
            "Requirement already satisfied: sqlalchemy>=1.3.0 in /usr/local/lib/python3.10/dist-packages (from optuna) (2.0.10)\n",
            "Requirement already satisfied: tqdm in /usr/local/lib/python3.10/dist-packages (from optuna) (4.65.0)\n",
            "Requirement already satisfied: PyYAML in /usr/local/lib/python3.10/dist-packages (from optuna) (6.0)\n",
            "Requirement already satisfied: Mako in /usr/local/lib/python3.10/dist-packages (from alembic>=1.5.0->optuna) (1.2.4)\n",
            "Requirement already satisfied: typing-extensions>=4 in /usr/local/lib/python3.10/dist-packages (from alembic>=1.5.0->optuna) (4.5.0)\n",
            "Requirement already satisfied: greenlet!=0.4.17 in /usr/local/lib/python3.10/dist-packages (from sqlalchemy>=1.3.0->optuna) (2.0.2)\n",
            "Requirement already satisfied: MarkupSafe>=0.9.2 in /usr/local/lib/python3.10/dist-packages (from Mako->alembic>=1.5.0->optuna) (2.1.2)\n"
          ]
        },
        {
          "metadata": {
            "tags": null
          },
          "name": "stderr",
          "output_type": "stream",
          "text": [
            "[I 2023-06-02 15:14:11,827] A new study created in memory with name: no-name-59c398e0-254f-4f26-a578-4494388450b6\n",
            "[I 2023-06-02 15:14:50,044] Trial 0 finished with value: 0.7759933371882375 and parameters: {'learning_rate': 0.034125110218813634, 'max_depth': 3, 'subsample': 1.0, 'colsample_bytree': 0.8, 'min_child_weight': 3}. Best is trial 0 with value: 0.7759933371882375.\n"
          ]
        },
        {
          "metadata": {
            "tags": null
          },
          "name": "stdout",
          "output_type": "stream",
          "text": [
            "avg roc: 0.7759933371882375\n",
            "avg f1: 0.8037011973008308\n"
          ]
        },
        {
          "metadata": {
            "tags": null
          },
          "name": "stderr",
          "output_type": "stream",
          "text": [
            "[I 2023-06-02 15:15:20,876] Trial 1 finished with value: 0.7557587418525774 and parameters: {'learning_rate': 0.0011031892307397436, 'max_depth': 2, 'subsample': 0.6, 'colsample_bytree': 0.9, 'min_child_weight': 3}. Best is trial 0 with value: 0.7759933371882375.\n"
          ]
        },
        {
          "metadata": {
            "tags": null
          },
          "name": "stdout",
          "output_type": "stream",
          "text": [
            "avg roc: 0.7557587418525774\n",
            "avg f1: 0.7919240186594954\n"
          ]
        },
        {
          "output_type": "stream",
          "name": "stderr",
          "text": [
            "[I 2023-06-02 15:16:32,091] Trial 2 finished with value: 0.7809107263368453 and parameters: {'learning_rate': 0.0012872627699893231, 'max_depth': 6, 'subsample': 0.9, 'colsample_bytree': 0.6, 'min_child_weight': 1}. Best is trial 2 with value: 0.7809107263368453.\n"
          ]
        },
        {
          "output_type": "stream",
          "name": "stdout",
          "text": [
            "avg roc: 0.7809107263368453\n",
            "avg f1: 0.8061293593824113\n"
          ]
        }
      ]
    },
    {
      "cell_type": "code",
      "source": [
        "encoder = OrdinalEncoder(cols=columns_to_encode)\n",
        "\n",
        "Xtr = train.drop(['status_do_caso', 'id_do_caso'], axis=1)\n",
        "Xvl = test.drop(['id_do_caso'], axis=1)\n",
        "ytr = train['status_do_caso']\n",
        "\n",
        "Xtr = encoder.fit_transform(Xtr)\n",
        "Xvl = encoder.transform(Xvl)\n",
        "\n",
        "learning_rate = study.best_params['learning_rate']\n",
        "max_depth = study.best_params['max_depth']\n",
        "subsample = study.best_params['subsample']\n",
        "colsample_bytree = study.best_params['colsample_bytree']\n",
        "min_child_weight = study.best_params['min_child_weight']\n",
        "\n",
        "scale_pos_weight = ytr.value_counts()[0] / ytr.value_counts()[1]\n",
        "\n",
        "p = np.zeros((Xvl.shape[0], 5))\n",
        "for seed in range(5):\n",
        "    mdl = XGBClassifier(n_estimators=1000, learning_rate=learning_rate, max_depth=max_depth, \n",
        "                        subsample=subsample, colsample_bytree=colsample_bytree, \n",
        "                        min_child_weight=min_child_weight, scale_pos_weight=scale_pos_weight, \n",
        "                        random_state=seed, n_jobs=-1)\n",
        "    mdl.fit(Xtr, ytr)\n",
        "    p[:, seed] = mdl.predict_proba(Xvl)[:, 1]"
      ],
      "metadata": {
        "id": "3FCDflOnnrDX"
      },
      "execution_count": 14,
      "outputs": []
    },
    {
      "cell_type": "code",
      "source": [
        "# Criar o conjunto de features (X_test5) para as previsões\n",
        "X_test5 = test.drop(['id_do_caso'], axis=1)\n",
        "\n",
        "# Fazer as previsões nos dados de teste\n",
        "y_pred5 = mdl.predict(Xvl)\n",
        "\n",
        "# Criar o DataFrame com as previsões no formato do df_sample_submission\n",
        "df_submission5 = pd.DataFrame(columns=['id_do_caso', 'status_do_caso'])\n",
        "df_submission5['id_do_caso'] = test['id_do_caso']\n",
        "df_submission5['status_do_caso'] = y_pred5\n",
        "\n",
        "# Exibir o DataFrame com as previsões\n",
        "print(df_submission5)\n",
        "\n",
        "# Salvando o DataFrame com as previsões df_submission5 em um arquivo sample_submission.csv\n",
        "df_submission5.to_csv('sample_submission.csv', index=False)"
      ],
      "metadata": {
        "colab": {
          "base_uri": "https://localhost:8080/"
        },
        "id": "GMzH40OPpk8M",
        "outputId": "fc7bd7c3-a1b7-41b2-e87e-6967d19fdb7f"
      },
      "execution_count": 18,
      "outputs": [
        {
          "output_type": "stream",
          "name": "stdout",
          "text": [
            "     id_do_caso  status_do_caso\n",
            "0     EZYV22339               1\n",
            "1      EZYV9333               0\n",
            "2      EZYV9740               1\n",
            "3      EZYV3328               1\n",
            "4     EZYV12321               1\n",
            "...         ...             ...\n",
            "7639  EZYV19907               0\n",
            "7640    EZYV576               0\n",
            "7641   EZYV1804               1\n",
            "7642  EZYV13543               1\n",
            "7643  EZYV17903               1\n",
            "\n",
            "[7644 rows x 2 columns]\n"
          ]
        }
      ]
    }
  ]
}